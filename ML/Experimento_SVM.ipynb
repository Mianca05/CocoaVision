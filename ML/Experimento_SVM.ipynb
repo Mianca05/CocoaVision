{
 "cells": [
  {
   "cell_type": "code",
   "execution_count": 26,
   "id": "bd672f97",
   "metadata": {},
   "outputs": [],
   "source": [
    "\"\"\"LIBRERIAS\"\"\"\n",
    "\n",
    "import h5py\n",
    "import cv2\n",
    "import numpy as np\n",
    "import pandas as pd\n",
    "from sklearn.model_selection import train_test_split\n",
    "from sklearn.model_selection import GridSearchCV\n",
    "from sklearn.metrics import classification_report\n",
    "from sklearn import svm\n",
    "from sklearn.metrics import accuracy_score, precision_score, recall_score, f1_score, make_scorer\n",
    "from sklearn.metrics import confusion_matrix\n",
    "import matplotlib.pyplot as plt\n",
    "import seaborn as sn"
   ]
  },
  {
   "cell_type": "markdown",
   "id": "57e0ab24",
   "metadata": {},
   "source": [
    "# Importar dataset"
   ]
  },
  {
   "cell_type": "markdown",
   "id": "4ccc349f",
   "metadata": {},
   "source": [
    "### Por color"
   ]
  },
  {
   "cell_type": "code",
   "execution_count": 9,
   "id": "feedd110",
   "metadata": {},
   "outputs": [],
   "source": [
    "\"\"\" leer archivos de caracteristicas de color y etiquetas\"\"\"\n",
    "h5f_color   = h5py.File(\"/home/miguel/Documents/ProyectoMoniliaCacao/2BDD_Caracteristicas/color_caracteristicas.h5\", 'r')\n",
    "h5f_colorEtiq = h5py.File(\"/home/miguel/Documents/ProyectoMoniliaCacao/2BDD_Caracteristicas/color_etiquetas.h5\", 'r')\n",
    "\n",
    "\"\"\"crear cadena de almacenamiento de las caracteristicas de color y de etiquetas\"\"\"\n",
    "color_caracteristicas_str = h5f_color['Cacao_Color_Caracteristicas']\n",
    "etiquetas_caract_color_str = h5f_colorEtiq['Cacao_Color_Etiquetas']\n",
    "\n",
    "\"\"\"transformar caracteres caracteristicas y etiquetas a vectores\"\"\"\n",
    "caracteristicas_color = np.array(color_caracteristicas_str)\n",
    "caracteristicas_col_etiquetas  = np.array(etiquetas_caract_color_str)\n",
    "\n",
    "h5f_color.close()\n",
    "h5f_colorEtiq.close()"
   ]
  },
  {
   "cell_type": "markdown",
   "id": "ca19bd60",
   "metadata": {},
   "source": [
    "### Por textura"
   ]
  },
  {
   "cell_type": "code",
   "execution_count": 10,
   "id": "3bf4264c",
   "metadata": {},
   "outputs": [],
   "source": [
    "\"\"\" leer archivos de caracteristicas de textura con respectivas etiquetas\"\"\"\n",
    "h5f_textura  = h5py.File(\"/home/miguel/Documents/ProyectoMoniliaCacao/2BDD_Caracteristicas/textura_caracteristicas.h5\", 'r')\n",
    "h5f_textureEtiq = h5py.File(\"/home/miguel/Documents/ProyectoMoniliaCacao/2BDD_Caracteristicas/textural_etiquetas.h5\", 'r')\n",
    "\n",
    "\"\"\"crear cadena de almacenamiento de las caracteristicas de textura con sus etiquetas\"\"\"\n",
    "textura_caracteristicas_str = h5f_textura['Cacao_Textura_Caracteristicas']\n",
    "textura_caract_etiquetas_str = h5f_textureEtiq['Cacao_Textura_Etiquetas']\n",
    "\n",
    "caracteristicas_textura = np.array(textura_caracteristicas_str )\n",
    "caracteristicas_textura_etiqueta  = np.array(textura_caract_etiquetas_str)\n",
    "\n",
    "h5f_textura.close()\n",
    "h5f_textureEtiq.close()"
   ]
  },
  {
   "cell_type": "markdown",
   "id": "81fba406",
   "metadata": {},
   "source": [
    "### Concatenar caracteristicas"
   ]
  },
  {
   "cell_type": "code",
   "execution_count": 18,
   "id": "63253c8c",
   "metadata": {},
   "outputs": [
    {
     "name": "stdout",
     "output_type": "stream",
     "text": [
      "[STATUS] features shape: (1206, 525)\n",
      "[STATUS] labels shape: (1206,)\n"
     ]
    }
   ],
   "source": [
    "\"\"\"unificar las caracteristicas de color y textura\"\"\"\n",
    "global_caracteristica = np.hstack([caracteristicas_color, caracteristicas_textura])\n",
    "\"\"\"mostrar forma del vector caracteristica global\"\"\"\n",
    "print(\"[STATUS] features shape: {}\".format(global_caracteristica.shape))\n",
    "\"\"\"forma de conjunto de etiquetas de los datos obtenidos\"\"\"\n",
    "print(\"[STATUS] labels shape: {}\".format(caracteristicas_textura_etiqueta.shape))"
   ]
  },
  {
   "cell_type": "markdown",
   "id": "82d9f928",
   "metadata": {},
   "source": [
    "## Identificacion de variables y division de datos entrenamiento y prueba"
   ]
  },
  {
   "cell_type": "code",
   "execution_count": 20,
   "id": "39765308",
   "metadata": {},
   "outputs": [
    {
     "data": {
      "text/plain": [
       "((964, 525), (242, 525))"
      ]
     },
     "execution_count": 20,
     "metadata": {},
     "output_type": "execute_result"
    }
   ],
   "source": [
    "\"\"\"variable independiente\"\"\"\n",
    "X = global_caracteristica\n",
    "\"\"\"variable objetivo\"\"\"\n",
    "Y = caracteristicas_col_etiquetas\n",
    "\n",
    "\"\"\"divsion de de datos para entrenar el modelo\"\"\"\n",
    "X_train, X_test, y_train, y_test = train_test_split(X, Y,\n",
    "                                        test_size   = 0.20,\n",
    "                                        random_state = 9)\n",
    "\"\"\"mostrar dimension de datos entrenamiento\"\"\"\n",
    "X_train.shape, X_test.shape"
   ]
  },
  {
   "cell_type": "markdown",
   "id": "67f4e5dd",
   "metadata": {},
   "source": [
    "# Modelo"
   ]
  },
  {
   "cell_type": "code",
   "execution_count": 21,
   "id": "7d99bc74",
   "metadata": {},
   "outputs": [],
   "source": [
    "\"\"\"establecer parametros del kernel sigmoid para clasificacion binaria\"\"\"\n",
    "sigmoid_param_grid = {\n",
    "        \"kernel\": [\"sigmoid\"],\n",
    "        \"gamma\": [\"auto\", \"scale\"],\n",
    "        \"C\": [0.0001, 0.001, 0.1, 1, 10, 100, 1000],\n",
    "        \"decision_function_shape\": ['ovo', 'ovr']\n",
    "}"
   ]
  },
  {
   "cell_type": "code",
   "execution_count": 22,
   "id": "80b8f8fe",
   "metadata": {},
   "outputs": [
    {
     "name": "stdout",
     "output_type": "stream",
     "text": [
      "SVC(C=1000, decision_function_shape='ovo', gamma='auto', kernel='sigmoid')\n"
     ]
    }
   ],
   "source": [
    "\"\"\"establecer hiperparametros del kernel sigmoid\"\"\"\n",
    "sigmoid_grid = GridSearchCV(svm.SVC(), sigmoid_param_grid)\n",
    "\"\"\"entrenar modelo svm de kernel sigmoid\"\"\"\n",
    "sigmoid_grid.fit(X_train,y_train)\n",
    "\"\"\"mostrar parametros del modelo \"\"\"\n",
    "print(sigmoid_grid.best_estimator_)"
   ]
  },
  {
   "cell_type": "code",
   "execution_count": 23,
   "id": "afc7cc19",
   "metadata": {},
   "outputs": [],
   "source": [
    "\"\"\"evaluar el modelo\"\"\"\n",
    "sigmoid_pred = sigmoid_grid.predict(X_test)"
   ]
  },
  {
   "cell_type": "markdown",
   "id": "3eda6129",
   "metadata": {},
   "source": [
    "### Evaluacion del modelo"
   ]
  },
  {
   "cell_type": "code",
   "execution_count": 24,
   "id": "ec8189ec",
   "metadata": {},
   "outputs": [
    {
     "name": "stdout",
     "output_type": "stream",
     "text": [
      "Accuracy (Sigmoid Kernel):  86.36\n",
      "F1 (Sigmoid Kernel):  86.41\n",
      "Precision (Sigmoid Kernel):  86.48\n",
      "Recall (Sigmoid Kernel):  86.36\n"
     ]
    }
   ],
   "source": [
    "\"\"\"calcular accuracy, precision, recall, y f1score\"\"\"\n",
    "sigmoid_accuracy = accuracy_score(y_test, sigmoid_pred)\n",
    "sigmoid_precision = precision_score(y_test, sigmoid_pred, average='weighted')\n",
    "sigmoid_recall = recall_score(y_test, sigmoid_pred, average='weighted')\n",
    "sigmoid_f1 = f1_score(y_test, sigmoid_pred, average='weighted')\n",
    "\n",
    "print('Accuracy (Sigmoid Kernel): ', \"%.2f\" % (sigmoid_accuracy*100))\n",
    "print('F1 (Sigmoid Kernel): ', \"%.2f\" % (sigmoid_f1*100))\n",
    "print('Precision (Sigmoid Kernel): ', \"%.2f\" % (sigmoid_precision*100))\n",
    "print('Recall (Sigmoid Kernel): ', \"%.2f\" % (sigmoid_recall*100))"
   ]
  },
  {
   "cell_type": "code",
   "execution_count": 27,
   "id": "4af3f492",
   "metadata": {},
   "outputs": [
    {
     "name": "stdout",
     "output_type": "stream",
     "text": [
      "              precision    recall  f1-score   support\n",
      "\n",
      "           0       0.90      0.88      0.89       151\n",
      "           1       0.81      0.84      0.82        91\n",
      "\n",
      "    accuracy                           0.86       242\n",
      "   macro avg       0.85      0.86      0.86       242\n",
      "weighted avg       0.86      0.86      0.86       242\n",
      "\n"
     ]
    }
   ],
   "source": [
    "\"\"\"reposte de metricas de evaluacion estandar \"\"\"\n",
    "print(classification_report(y_test, sigmoid_pred))"
   ]
  }
 ],
 "metadata": {
  "kernelspec": {
   "display_name": "Python 3 (ipykernel)",
   "language": "python",
   "name": "python3"
  },
  "language_info": {
   "codemirror_mode": {
    "name": "ipython",
    "version": 3
   },
   "file_extension": ".py",
   "mimetype": "text/x-python",
   "name": "python",
   "nbconvert_exporter": "python",
   "pygments_lexer": "ipython3",
   "version": "3.8.10"
  }
 },
 "nbformat": 4,
 "nbformat_minor": 5
}
